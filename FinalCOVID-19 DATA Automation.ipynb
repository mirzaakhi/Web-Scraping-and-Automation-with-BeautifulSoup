{
 "cells": [
  {
   "cell_type": "code",
   "execution_count": null,
   "metadata": {},
   "outputs": [
    {
     "name": "stdout",
     "output_type": "stream",
     "text": [
      "Last checked at 2020-04-17 21:17:14.418097\n",
      "Runned Successfully 1 times\n",
      "Last checked at 2020-04-17 21:17:26.985046\n",
      "Runned Successfully 2 times\n",
      "Last checked at 2020-04-17 21:17:39.870267\n",
      "Runned Successfully 3 times\n",
      "Last checked at 2020-04-17 21:17:52.357640\n",
      "Runned Successfully 4 times\n",
      "Last checked at 2020-04-17 21:18:06.044755\n",
      "Runned Successfully 5 times\n",
      "Last checked at 2020-04-17 21:18:19.900925\n",
      "Runned Successfully 6 times\n",
      "Last checked at 2020-04-17 21:18:33.532576\n",
      "Runned Successfully 7 times\n",
      "Last checked at 2020-04-17 21:18:47.373411\n",
      "Runned Successfully 8 times\n"
     ]
    }
   ],
   "source": [
    "import requests, io, time, datetime\n",
    "from bs4 import BeautifulSoup\n",
    "def datacollection():\n",
    "    x = datetime.datetime.now()\n",
    "    t = str(x)\n",
    "    URL=\"https://www.worldometers.info/coronavirus/#countries\"\n",
    "    headers = {\"User-Agent\": 'Mozilla/5.0 (Windows NT 10.0; Win64; x64) AppleWebKit/537.36 (KHTML, like Gecko) Chrome/76.0.3809.132 Safari/537.36'}\n",
    "\n",
    "    html_page = requests.get(URL).text\n",
    "    soup = BeautifulSoup (html_page, 'lxml')\n",
    "    corona = soup.findAll(\"div\", { \"class\" : \"main_table_countries_div\" })\n",
    "    print(\"Last checked at \"+ t)\n",
    "    open(\"datatable1.html\", \"w\").close()\n",
    "    with io.open(\"datatable1.html\", \"w\",encoding=\"utf-8\") as htmlfile:\n",
    "        htmlfile.write(str(corona))\n",
    "    htmlfile.close()\n",
    "n = 1\n",
    "while n > 0:\n",
    "        datacollection()\n",
    "        print(\"Runned Successfully \"+str(n)+\" times\")\n",
    "        n= int(n)+1\n",
    "        time.sleep(10)"
   ]
  },
  {
   "cell_type": "code",
   "execution_count": null,
   "metadata": {},
   "outputs": [],
   "source": []
  }
 ],
 "metadata": {
  "kernelspec": {
   "display_name": "Python 3",
   "language": "python",
   "name": "python3"
  },
  "language_info": {
   "codemirror_mode": {
    "name": "ipython",
    "version": 3
   },
   "file_extension": ".py",
   "mimetype": "text/x-python",
   "name": "python",
   "nbconvert_exporter": "python",
   "pygments_lexer": "ipython3",
   "version": "3.7.4"
  }
 },
 "nbformat": 4,
 "nbformat_minor": 2
}
